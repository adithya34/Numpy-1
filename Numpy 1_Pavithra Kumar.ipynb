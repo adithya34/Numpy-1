{
 "cells": [
  {
   "cell_type": "code",
   "execution_count": 26,
   "metadata": {
    "collapsed": true
   },
   "outputs": [],
   "source": [
    "import numpy as np"
   ]
  },
  {
   "cell_type": "code",
   "execution_count": 27,
   "metadata": {},
   "outputs": [],
   "source": [
    "#Define myfunction identical to Vandermonde function \n",
    "def myfunction(x,n,increasing): # It takes the input vector x, number of columns n and increasing as boolean operator\n",
    "    out =[]                     # Initialize output matrix as empty\n",
    "    for i in range(n):          # Traverse through the range of n\n",
    "        inp=[]                  # Initialize an empty list to compute each column  \n",
    "        for k in x:             # Traverse through all elements in input vector x\n",
    "            inp.append(k**(n-i-1)) # Append each element to power(n-i-1) to the input vector\n",
    "        out.append(inp)            # Append each list to the output matrix \n",
    "    if(not increasing):            # If increasing is False\n",
    "            return np.column_stack(out) # Return each list as a column stack in descending order\n",
    "    else:                               # If increasing is True\n",
    "            return np.column_stack(sorted(out)) # Return each list as a column stack in ascending order"
   ]
  },
  {
   "cell_type": "code",
   "execution_count": 28,
   "metadata": {},
   "outputs": [
    {
     "data": {
      "text/plain": [
       "array([[ 1,  1,  1,  1],\n",
       "       [ 8,  4,  2,  1],\n",
       "       [27,  9,  3,  1],\n",
       "       [64, 16,  4,  1]])"
      ]
     },
     "execution_count": 28,
     "metadata": {},
     "output_type": "execute_result"
    }
   ],
   "source": [
    "myfunction([1,2,3,4],4,False)"
   ]
  },
  {
   "cell_type": "code",
   "execution_count": 29,
   "metadata": {},
   "outputs": [
    {
     "data": {
      "text/plain": [
       "array([[ 1,  1,  1,  1],\n",
       "       [ 1,  2,  4,  8],\n",
       "       [ 1,  3,  9, 27],\n",
       "       [ 1,  4, 16, 64]])"
      ]
     },
     "execution_count": 29,
     "metadata": {},
     "output_type": "execute_result"
    }
   ],
   "source": [
    "myfunction([1,2,3,4],4,True)"
   ]
  },
  {
   "cell_type": "code",
   "execution_count": null,
   "metadata": {
    "collapsed": true
   },
   "outputs": [],
   "source": []
  }
 ],
 "metadata": {
  "kernelspec": {
   "display_name": "Python 3",
   "language": "python",
   "name": "python3"
  },
  "language_info": {
   "codemirror_mode": {
    "name": "ipython",
    "version": 3
   },
   "file_extension": ".py",
   "mimetype": "text/x-python",
   "name": "python",
   "nbconvert_exporter": "python",
   "pygments_lexer": "ipython3",
   "version": "3.6.2"
  }
 },
 "nbformat": 4,
 "nbformat_minor": 2
}
